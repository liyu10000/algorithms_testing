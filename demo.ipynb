{
 "cells": [
  {
   "cell_type": "code",
   "execution_count": 1,
   "metadata": {},
   "outputs": [],
   "source": [
    "import statsmodels\n",
    "import statsmodels.api as sm\n",
    "import numpy as np\n",
    "from algorithms import McNemar, McNemarTest"
   ]
  },
  {
   "cell_type": "code",
   "execution_count": 2,
   "metadata": {},
   "outputs": [
    {
     "name": "stdout",
     "output_type": "stream",
     "text": [
      "22 28\n",
      "0.5\n",
      "[[29 28]\n",
      " [22 21]]\n",
      "0.5\n",
      "0.9775485915075744\n"
     ]
    }
   ],
   "source": [
    "# T = np.random.randint(2, size=100)\n",
    "# A = np.random.randint(2, size=100)\n",
    "# B = np.random.randint(2, size=100)\n",
    "AB = np.random.randint(2, size=(100, 2))\n",
    "A = AB[:, 0]\n",
    "B = AB[:, 1]\n",
    "\n",
    "# check hand-written codes\n",
    "statistic = McNemar(A, B)\n",
    "print(statistic)\n",
    "\n",
    "# check stats models\n",
    "table = sm.stats.Table.from_data(AB)\n",
    "print(table.table_orig.values)\n",
    "bunch = statsmodels.stats.contingency_tables.mcnemar(table.table_orig.values, exact=False, correction=True)\n",
    "print(bunch.statistic)\n",
    "rslt = table.test_ordinal_association()\n",
    "print(rslt.pvalue)"
   ]
  },
  {
   "cell_type": "code",
   "execution_count": 3,
   "metadata": {},
   "outputs": [
    {
     "data": {
      "text/plain": [
       "(0.5, 0.9775485915075744)"
      ]
     },
     "execution_count": 3,
     "metadata": {},
     "output_type": "execute_result"
    }
   ],
   "source": [
    "McNemarTest(A, B)"
   ]
  },
  {
   "cell_type": "code",
   "execution_count": 7,
   "metadata": {},
   "outputs": [
    {
     "name": "stdout",
     "output_type": "stream",
     "text": [
      "2.2281388519649385\n"
     ]
    }
   ],
   "source": [
    "from scipy import stats\n",
    "\n",
    "t = stats.t.ppf(1-0.025, 10)\n",
    "print(t)"
   ]
  },
  {
   "cell_type": "code",
   "execution_count": 11,
   "metadata": {},
   "outputs": [
    {
     "name": "stdout",
     "output_type": "stream",
     "text": [
      "-2\n"
     ]
    }
   ],
   "source": [
    "print(~True)"
   ]
  },
  {
   "cell_type": "code",
   "execution_count": null,
   "metadata": {},
   "outputs": [],
   "source": []
  }
 ],
 "metadata": {
  "kernelspec": {
   "display_name": "Python 3",
   "language": "python",
   "name": "python3"
  },
  "language_info": {
   "codemirror_mode": {
    "name": "ipython",
    "version": 3
   },
   "file_extension": ".py",
   "mimetype": "text/x-python",
   "name": "python",
   "nbconvert_exporter": "python",
   "pygments_lexer": "ipython3",
   "version": "3.7.5"
  }
 },
 "nbformat": 4,
 "nbformat_minor": 2
}
